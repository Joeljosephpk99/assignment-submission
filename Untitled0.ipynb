{
  "nbformat": 4,
  "nbformat_minor": 0,
  "metadata": {
    "colab": {
      "name": "Untitled0.ipynb",
      "provenance": [],
      "authorship_tag": "ABX9TyNM41LcmfmVQ5xsd09VReIP",
      "include_colab_link": true
    },
    "kernelspec": {
      "name": "python3",
      "display_name": "Python 3"
    },
    "language_info": {
      "name": "python"
    }
  },
  "cells": [
    {
      "cell_type": "markdown",
      "metadata": {
        "id": "view-in-github",
        "colab_type": "text"
      },
      "source": [
        "<a href=\"https://colab.research.google.com/github/Joeljosephpk99/assignment-submission/blob/main/Untitled0.ipynb\" target=\"_parent\"><img src=\"https://colab.research.google.com/assets/colab-badge.svg\" alt=\"Open In Colab\"/></a>"
      ]
    },
    {
      "cell_type": "code",
      "metadata": {
        "id": "qakJ_CbZLDn6"
      },
      "source": [
        "import numpy as np\n",
        "import matplotlib.pyplot as plt\n",
        "import pandas as pd\n",
        "import seaborn as sns\n",
        "%matplotlib inline\n",
        "from numpy.random import randn,randint,uniform,sample"
      ],
      "execution_count": 1,
      "outputs": []
    },
    {
      "cell_type": "code",
      "metadata": {
        "colab": {
          "base_uri": "https://localhost:8080/",
          "height": 357
        },
        "id": "_c8cF8UZLKTs",
        "outputId": "2b01c9b5-acdf-4ac8-f99d-18a30b9ec146"
      },
      "source": [
        "df=pd.DataFrame(randn(10,4),columns=['a','b','c','d'])\n",
        "df"
      ],
      "execution_count": 2,
      "outputs": [
        {
          "output_type": "execute_result",
          "data": {
            "text/html": [
              "<div>\n",
              "<style scoped>\n",
              "    .dataframe tbody tr th:only-of-type {\n",
              "        vertical-align: middle;\n",
              "    }\n",
              "\n",
              "    .dataframe tbody tr th {\n",
              "        vertical-align: top;\n",
              "    }\n",
              "\n",
              "    .dataframe thead th {\n",
              "        text-align: right;\n",
              "    }\n",
              "</style>\n",
              "<table border=\"1\" class=\"dataframe\">\n",
              "  <thead>\n",
              "    <tr style=\"text-align: right;\">\n",
              "      <th></th>\n",
              "      <th>a</th>\n",
              "      <th>b</th>\n",
              "      <th>c</th>\n",
              "      <th>d</th>\n",
              "    </tr>\n",
              "  </thead>\n",
              "  <tbody>\n",
              "    <tr>\n",
              "      <th>0</th>\n",
              "      <td>-0.378112</td>\n",
              "      <td>-0.316594</td>\n",
              "      <td>-0.531146</td>\n",
              "      <td>-0.639339</td>\n",
              "    </tr>\n",
              "    <tr>\n",
              "      <th>1</th>\n",
              "      <td>1.176999</td>\n",
              "      <td>0.378060</td>\n",
              "      <td>0.186296</td>\n",
              "      <td>0.400677</td>\n",
              "    </tr>\n",
              "    <tr>\n",
              "      <th>2</th>\n",
              "      <td>-0.658745</td>\n",
              "      <td>-1.733879</td>\n",
              "      <td>0.279648</td>\n",
              "      <td>-1.495862</td>\n",
              "    </tr>\n",
              "    <tr>\n",
              "      <th>3</th>\n",
              "      <td>0.727684</td>\n",
              "      <td>1.224518</td>\n",
              "      <td>0.016771</td>\n",
              "      <td>-0.987597</td>\n",
              "    </tr>\n",
              "    <tr>\n",
              "      <th>4</th>\n",
              "      <td>0.315445</td>\n",
              "      <td>1.481215</td>\n",
              "      <td>-0.595943</td>\n",
              "      <td>-0.851529</td>\n",
              "    </tr>\n",
              "    <tr>\n",
              "      <th>5</th>\n",
              "      <td>-0.953528</td>\n",
              "      <td>-0.448431</td>\n",
              "      <td>0.629522</td>\n",
              "      <td>-0.218294</td>\n",
              "    </tr>\n",
              "    <tr>\n",
              "      <th>6</th>\n",
              "      <td>0.269515</td>\n",
              "      <td>2.240450</td>\n",
              "      <td>-0.614525</td>\n",
              "      <td>0.981315</td>\n",
              "    </tr>\n",
              "    <tr>\n",
              "      <th>7</th>\n",
              "      <td>1.064348</td>\n",
              "      <td>-0.362283</td>\n",
              "      <td>-1.327735</td>\n",
              "      <td>-1.776644</td>\n",
              "    </tr>\n",
              "    <tr>\n",
              "      <th>8</th>\n",
              "      <td>-1.156249</td>\n",
              "      <td>0.024810</td>\n",
              "      <td>0.353523</td>\n",
              "      <td>-0.459772</td>\n",
              "    </tr>\n",
              "    <tr>\n",
              "      <th>9</th>\n",
              "      <td>-0.781653</td>\n",
              "      <td>0.797424</td>\n",
              "      <td>-0.992949</td>\n",
              "      <td>-0.470519</td>\n",
              "    </tr>\n",
              "  </tbody>\n",
              "</table>\n",
              "</div>"
            ],
            "text/plain": [
              "          a         b         c         d\n",
              "0 -0.378112 -0.316594 -0.531146 -0.639339\n",
              "1  1.176999  0.378060  0.186296  0.400677\n",
              "2 -0.658745 -1.733879  0.279648 -1.495862\n",
              "3  0.727684  1.224518  0.016771 -0.987597\n",
              "4  0.315445  1.481215 -0.595943 -0.851529\n",
              "5 -0.953528 -0.448431  0.629522 -0.218294\n",
              "6  0.269515  2.240450 -0.614525  0.981315\n",
              "7  1.064348 -0.362283 -1.327735 -1.776644\n",
              "8 -1.156249  0.024810  0.353523 -0.459772\n",
              "9 -0.781653  0.797424 -0.992949 -0.470519"
            ]
          },
          "metadata": {
            "tags": []
          },
          "execution_count": 2
        }
      ]
    },
    {
      "cell_type": "code",
      "metadata": {
        "colab": {
          "base_uri": "https://localhost:8080/",
          "height": 278
        },
        "id": "-14orQDFLRcc",
        "outputId": "64affc5d-2409-4d20-b69c-bca293a87943"
      },
      "source": [
        "df.plot.bar()\n",
        "plt.title(\"Bar Graph\")\n",
        "plt.show()"
      ],
      "execution_count": 3,
      "outputs": [
        {
          "output_type": "display_data",
          "data": {
            "image/png": "[encoded data removed]",
            "text/plain": [
              "<Figure size 432x288 with 1 Axes>"
            ]
          },
          "metadata": {
            "tags": [],
            "needs_background": "light"
          }
        }
      ]
    }
  ]
}